{
  "nbformat": 4,
  "nbformat_minor": 0,
  "metadata": {
    "colab": {
      "provenance": [],
      "authorship_tag": "ABX9TyOeKsBS05OFC8djsYejZyvN",
      "include_colab_link": true
    },
    "kernelspec": {
      "name": "python3",
      "display_name": "Python 3"
    },
    "language_info": {
      "name": "python"
    }
  },
  "cells": [
    {
      "cell_type": "markdown",
      "metadata": {
        "id": "view-in-github",
        "colab_type": "text"
      },
      "source": [
        "<a href=\"https://colab.research.google.com/github/SzczotkaMichal/data-science-bootcamp/blob/main/Project1.ipynb\" target=\"_parent\"><img src=\"https://colab.research.google.com/assets/colab-badge.svg\" alt=\"Open In Colab\"/></a>"
      ]
    },
    {
      "cell_type": "code",
      "execution_count": 16,
      "metadata": {
        "id": "pVqUZLhj0HSD"
      },
      "outputs": [],
      "source": [
        "import numpy as np"
      ]
    },
    {
      "cell_type": "code",
      "source": [
        "np.zeros(shape=(5,5))"
      ],
      "metadata": {
        "id": "4Pxy-D9u4Ijm",
        "outputId": "1a1fb22e-fee1-4478-f080-e9ca6943ae60",
        "colab": {
          "base_uri": "https://localhost:8080/"
        }
      },
      "execution_count": 17,
      "outputs": [
        {
          "output_type": "execute_result",
          "data": {
            "text/plain": [
              "array([[0., 0., 0., 0., 0.],\n",
              "       [0., 0., 0., 0., 0.],\n",
              "       [0., 0., 0., 0., 0.],\n",
              "       [0., 0., 0., 0., 0.],\n",
              "       [0., 0., 0., 0., 0.]])"
            ]
          },
          "metadata": {},
          "execution_count": 17
        }
      ]
    },
    {
      "cell_type": "code",
      "source": [
        "np.array(range(1,11,1))"
      ],
      "metadata": {
        "id": "FKxlHQE84NhD",
        "outputId": "bae28088-77ca-4969-c0a2-2ce55450d823",
        "colab": {
          "base_uri": "https://localhost:8080/"
        }
      },
      "execution_count": 21,
      "outputs": [
        {
          "output_type": "execute_result",
          "data": {
            "text/plain": [
              "array([ 1,  2,  3,  4,  5,  6,  7,  8,  9, 10])"
            ]
          },
          "metadata": {},
          "execution_count": 21
        }
      ]
    },
    {
      "cell_type": "code",
      "source": [
        "arr = np.zeros(shape=(3,3), dtype=int)\n",
        "\n",
        "count = 1\n",
        "for i in range(3):\n",
        "  for j in range(3):\n",
        "    arr[i, j] = count\n",
        "    count += 1\n",
        "\n",
        "arr\n"
      ],
      "metadata": {
        "id": "5WpIxRsc_U2o",
        "outputId": "00dbe9cc-948c-4ef0-e4a9-f2a7f21dce77",
        "colab": {
          "base_uri": "https://localhost:8080/"
        }
      },
      "execution_count": 23,
      "outputs": [
        {
          "output_type": "execute_result",
          "data": {
            "text/plain": [
              "array([[1, 2, 3],\n",
              "       [4, 5, 6],\n",
              "       [7, 8, 9]])"
            ]
          },
          "metadata": {},
          "execution_count": 23
        }
      ]
    },
    {
      "cell_type": "code",
      "source": [
        "A = np.array([1, 2, 3, 4, 5])\n",
        "A = np.array([1, 2, 3, 4, 5])\n",
        "A*2\n",
        "A+10\n",
        "A**2"
      ],
      "metadata": {
        "id": "ZtEKOlOqAKZS",
        "outputId": "b882ff51-8885-47a9-cf3f-3ba29b8872a3",
        "colab": {
          "base_uri": "https://localhost:8080/"
        }
      },
      "execution_count": 33,
      "outputs": [
        {
          "output_type": "execute_result",
          "data": {
            "text/plain": [
              "array([ 1,  4,  9, 16, 25])"
            ]
          },
          "metadata": {},
          "execution_count": 33
        }
      ]
    },
    {
      "cell_type": "markdown",
      "source": [
        "A = np.array([[10, 20, 30], [40, 50, 60], [70, 80, 90]])\n",
        "Wydrukuj drugi wiersz.\n",
        "Wydrukuj element w pierwszym wierszu i drugiej kolumnie.\n",
        "Wydrukuj ostatnią kolumnę."
      ],
      "metadata": {
        "id": "_YZJFJ7eBJjQ"
      }
    },
    {
      "cell_type": "code",
      "source": [
        "A = np.array([[10, 20, 30], [40, 50, 60], [70, 80, 90]])\n",
        "A[2]\n",
        "A[1,2]\n",
        "print(A[:, -1])"
      ],
      "metadata": {
        "id": "dsMVWZUsBNlK",
        "outputId": "1c859474-7330-4979-e965-69026f0a382c",
        "colab": {
          "base_uri": "https://localhost:8080/"
        }
      },
      "execution_count": 44,
      "outputs": [
        {
          "output_type": "stream",
          "name": "stdout",
          "text": [
            "[30 60 90]\n"
          ]
        }
      ]
    },
    {
      "cell_type": "code",
      "source": [
        "A = np.arange(25)\n",
        "A.reshape(5,5)"
      ],
      "metadata": {
        "id": "YC0Zd_adBV3s",
        "outputId": "1e3a457e-9cfd-41ab-af58-dcd3c94497fd",
        "colab": {
          "base_uri": "https://localhost:8080/"
        }
      },
      "execution_count": 48,
      "outputs": [
        {
          "output_type": "execute_result",
          "data": {
            "text/plain": [
              "array([ 0,  1,  2,  3,  4,  5,  6,  7,  8,  9, 10, 11, 12, 13, 14, 15, 16,\n",
              "       17, 18, 19, 20, 21, 22, 23, 24])"
            ]
          },
          "metadata": {},
          "execution_count": 48
        }
      ]
    },
    {
      "cell_type": "code",
      "source": [
        "A.reshape(5,5)"
      ],
      "metadata": {
        "id": "2rSrjVN7CmZY",
        "outputId": "f56c74e8-038d-4c0c-f2f8-120c7e9f2100",
        "colab": {
          "base_uri": "https://localhost:8080/"
        }
      },
      "execution_count": 49,
      "outputs": [
        {
          "output_type": "execute_result",
          "data": {
            "text/plain": [
              "array([[ 0,  1,  2,  3,  4],\n",
              "       [ 5,  6,  7,  8,  9],\n",
              "       [10, 11, 12, 13, 14],\n",
              "       [15, 16, 17, 18, 19],\n",
              "       [20, 21, 22, 23, 24]])"
            ]
          },
          "metadata": {},
          "execution_count": 49
        }
      ]
    },
    {
      "cell_type": "code",
      "source": [],
      "metadata": {
        "id": "sMho9Pu2Dg9J"
      },
      "execution_count": null,
      "outputs": []
    }
  ]
}